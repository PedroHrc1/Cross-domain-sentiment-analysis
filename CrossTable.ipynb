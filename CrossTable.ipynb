{
 "cells": [
  {
   "cell_type": "code",
   "execution_count": 3,
   "id": "a66776fd",
   "metadata": {},
   "outputs": [],
   "source": [
    "from sklearn.feature_extraction.text import TfidfVectorizer\n",
    "from sklearn.linear_model import LogisticRegression\n",
    "from sklearn.pipeline import Pipeline\n",
    "import pandas as pd\n",
    "\n",
    "pipeline_1 = Pipeline([\n",
    "    ('tfidf', TfidfVectorizer()),\n",
    "    ('clf', LogisticRegression())\n",
    "])\n",
    "\n",
    "pipeline_2 = Pipeline([\n",
    "    ('tfidf', TfidfVectorizer()),\n",
    "    ('clf', LogisticRegression())\n",
    "])"
   ]
  },
  {
   "cell_type": "code",
   "execution_count": 4,
   "id": "b9182f79",
   "metadata": {},
   "outputs": [
    {
     "name": "stderr",
     "output_type": "stream",
     "text": [
      "C:\\Users\\phcol\\AppData\\Local\\Packages\\PythonSoftwareFoundation.Python.3.11_qbz5n2kfra8p0\\LocalCache\\local-packages\\Python311\\site-packages\\tqdm\\auto.py:21: TqdmWarning: IProgress not found. Please update jupyter and ipywidgets. See https://ipywidgets.readthedocs.io/en/stable/user_install.html\n",
      "  from .autonotebook import tqdm as notebook_tqdm\n"
     ]
    }
   ],
   "source": [
    "splits = {'train': 'sent_train.csv', 'validation': 'sent_valid.csv'}\n",
    "df = pd.read_csv(\"hf://datasets/zeroshot/twitter-financial-news-sentiment/\" + splits[\"train\"])\n",
    "df_validation = pd.read_csv(\"hf://datasets/zeroshot/twitter-financial-news-sentiment/\" + splits[\"validation\"])\n",
    "\n",
    "splits = {'train': 'data/train-00000-of-00001.parquet', 'validation': 'data/validation-00000-of-00001.parquet', 'test': 'data/test-00000-of-00001.parquet'}\n",
    "df2 = pd.read_parquet(\"hf://datasets/google-research-datasets/poem_sentiment/\" + splits[\"train\"])\n",
    "df2_validation = pd.read_parquet(\"hf://datasets/google-research-datasets/poem_sentiment/\" + splits[\"validation\"])\n",
    "\n",
    "# Rename 'verse_text' to 'text' for consistency\n",
    "df2 = df2.rename(columns={'verse_text': 'text'})\n",
    "df2_validation = df2_validation.rename(columns={'verse_text': 'text'})"
   ]
  },
  {
   "cell_type": "code",
   "execution_count": 5,
   "id": "7ff3f23f",
   "metadata": {},
   "outputs": [
    {
     "data": {
      "text/html": [
       "<div>\n",
       "<style scoped>\n",
       "    .dataframe tbody tr th:only-of-type {\n",
       "        vertical-align: middle;\n",
       "    }\n",
       "\n",
       "    .dataframe tbody tr th {\n",
       "        vertical-align: top;\n",
       "    }\n",
       "\n",
       "    .dataframe thead th {\n",
       "        text-align: right;\n",
       "    }\n",
       "</style>\n",
       "<table border=\"1\" class=\"dataframe\">\n",
       "  <thead>\n",
       "    <tr style=\"text-align: right;\">\n",
       "      <th></th>\n",
       "      <th>text</th>\n",
       "      <th>label</th>\n",
       "    </tr>\n",
       "  </thead>\n",
       "  <tbody>\n",
       "    <tr>\n",
       "      <th>0</th>\n",
       "      <td>$BYND - JPMorgan reels in expectations on Beyo...</td>\n",
       "      <td>0</td>\n",
       "    </tr>\n",
       "    <tr>\n",
       "      <th>1</th>\n",
       "      <td>$CCL $RCL - Nomura points to bookings weakness...</td>\n",
       "      <td>0</td>\n",
       "    </tr>\n",
       "    <tr>\n",
       "      <th>2</th>\n",
       "      <td>$CX - Cemex cut at Credit Suisse, J.P. Morgan ...</td>\n",
       "      <td>0</td>\n",
       "    </tr>\n",
       "    <tr>\n",
       "      <th>3</th>\n",
       "      <td>$ESS: BTIG Research cuts to Neutral https://t....</td>\n",
       "      <td>0</td>\n",
       "    </tr>\n",
       "    <tr>\n",
       "      <th>4</th>\n",
       "      <td>$FNKO - Funko slides after Piper Jaffray PT cu...</td>\n",
       "      <td>0</td>\n",
       "    </tr>\n",
       "  </tbody>\n",
       "</table>\n",
       "</div>"
      ],
      "text/plain": [
       "                                                text  label\n",
       "0  $BYND - JPMorgan reels in expectations on Beyo...      0\n",
       "1  $CCL $RCL - Nomura points to bookings weakness...      0\n",
       "2  $CX - Cemex cut at Credit Suisse, J.P. Morgan ...      0\n",
       "3  $ESS: BTIG Research cuts to Neutral https://t....      0\n",
       "4  $FNKO - Funko slides after Piper Jaffray PT cu...      0"
      ]
     },
     "execution_count": 5,
     "metadata": {},
     "output_type": "execute_result"
    }
   ],
   "source": [
    "df.head(5)"
   ]
  },
  {
   "cell_type": "code",
   "execution_count": 6,
   "id": "46ee0443",
   "metadata": {},
   "outputs": [
    {
     "data": {
      "text/html": [
       "<div>\n",
       "<style scoped>\n",
       "    .dataframe tbody tr th:only-of-type {\n",
       "        vertical-align: middle;\n",
       "    }\n",
       "\n",
       "    .dataframe tbody tr th {\n",
       "        vertical-align: top;\n",
       "    }\n",
       "\n",
       "    .dataframe thead th {\n",
       "        text-align: right;\n",
       "    }\n",
       "</style>\n",
       "<table border=\"1\" class=\"dataframe\">\n",
       "  <thead>\n",
       "    <tr style=\"text-align: right;\">\n",
       "      <th></th>\n",
       "      <th>id</th>\n",
       "      <th>text</th>\n",
       "      <th>label</th>\n",
       "    </tr>\n",
       "  </thead>\n",
       "  <tbody>\n",
       "    <tr>\n",
       "      <th>0</th>\n",
       "      <td>0</td>\n",
       "      <td>with pale blue berries. in these peaceful shad...</td>\n",
       "      <td>1</td>\n",
       "    </tr>\n",
       "    <tr>\n",
       "      <th>1</th>\n",
       "      <td>1</td>\n",
       "      <td>it flows so long as falls the rain,</td>\n",
       "      <td>2</td>\n",
       "    </tr>\n",
       "    <tr>\n",
       "      <th>2</th>\n",
       "      <td>2</td>\n",
       "      <td>and that is why, the lonesome day,</td>\n",
       "      <td>0</td>\n",
       "    </tr>\n",
       "    <tr>\n",
       "      <th>3</th>\n",
       "      <td>3</td>\n",
       "      <td>when i peruse the conquered fame of heroes, an...</td>\n",
       "      <td>3</td>\n",
       "    </tr>\n",
       "    <tr>\n",
       "      <th>4</th>\n",
       "      <td>4</td>\n",
       "      <td>of inward strife for truth and liberty.</td>\n",
       "      <td>3</td>\n",
       "    </tr>\n",
       "  </tbody>\n",
       "</table>\n",
       "</div>"
      ],
      "text/plain": [
       "   id                                               text  label\n",
       "0   0  with pale blue berries. in these peaceful shad...      1\n",
       "1   1                it flows so long as falls the rain,      2\n",
       "2   2                 and that is why, the lonesome day,      0\n",
       "3   3  when i peruse the conquered fame of heroes, an...      3\n",
       "4   4            of inward strife for truth and liberty.      3"
      ]
     },
     "execution_count": 6,
     "metadata": {},
     "output_type": "execute_result"
    }
   ],
   "source": [
    "df2.head()"
   ]
  },
  {
   "cell_type": "code",
   "execution_count": 7,
   "id": "bfe52d1a",
   "metadata": {},
   "outputs": [
    {
     "name": "stdout",
     "output_type": "stream",
     "text": [
      "              precision    recall  f1-score   support\n",
      "\n",
      "           0       0.79      0.44      0.56       347\n",
      "           1       0.77      0.56      0.65       475\n",
      "           2       0.81      0.96      0.88      1566\n",
      "\n",
      "    accuracy                           0.80      2388\n",
      "   macro avg       0.79      0.65      0.70      2388\n",
      "weighted avg       0.80      0.80      0.79      2388\n",
      "\n"
     ]
    }
   ],
   "source": [
    "from sklearn.metrics import classification_report\n",
    "\n",
    "pipeline_1.fit(df['text'], df['label'])\n",
    "y_pred = pipeline_1.predict(df_validation['text'])\n",
    "report = classification_report(df_validation['label'], y_pred)\n",
    "print(report)"
   ]
  },
  {
   "cell_type": "code",
   "execution_count": 9,
   "id": "549a4c78",
   "metadata": {},
   "outputs": [
    {
     "name": "stdout",
     "output_type": "stream",
     "text": [
      "              precision    recall  f1-score   support\n",
      "\n",
      "           0       0.00      0.00      0.00        19\n",
      "           1       1.00      0.12      0.21        17\n",
      "           2       0.67      1.00      0.80        69\n",
      "\n",
      "    accuracy                           0.68       105\n",
      "   macro avg       0.56      0.37      0.34       105\n",
      "weighted avg       0.60      0.68      0.56       105\n",
      "\n"
     ]
    },
    {
     "name": "stderr",
     "output_type": "stream",
     "text": [
      "C:\\Users\\phcol\\AppData\\Local\\Packages\\PythonSoftwareFoundation.Python.3.11_qbz5n2kfra8p0\\LocalCache\\local-packages\\Python311\\site-packages\\sklearn\\metrics\\_classification.py:1731: UndefinedMetricWarning: Precision is ill-defined and being set to 0.0 in labels with no predicted samples. Use `zero_division` parameter to control this behavior.\n",
      "  _warn_prf(average, modifier, f\"{metric.capitalize()} is\", result.shape[0])\n",
      "C:\\Users\\phcol\\AppData\\Local\\Packages\\PythonSoftwareFoundation.Python.3.11_qbz5n2kfra8p0\\LocalCache\\local-packages\\Python311\\site-packages\\sklearn\\metrics\\_classification.py:1731: UndefinedMetricWarning: Precision is ill-defined and being set to 0.0 in labels with no predicted samples. Use `zero_division` parameter to control this behavior.\n",
      "  _warn_prf(average, modifier, f\"{metric.capitalize()} is\", result.shape[0])\n",
      "C:\\Users\\phcol\\AppData\\Local\\Packages\\PythonSoftwareFoundation.Python.3.11_qbz5n2kfra8p0\\LocalCache\\local-packages\\Python311\\site-packages\\sklearn\\metrics\\_classification.py:1731: UndefinedMetricWarning: Precision is ill-defined and being set to 0.0 in labels with no predicted samples. Use `zero_division` parameter to control this behavior.\n",
      "  _warn_prf(average, modifier, f\"{metric.capitalize()} is\", result.shape[0])\n"
     ]
    }
   ],
   "source": [
    "pipeline_2.fit(df2['text'], df2['label'])\n",
    "y_pred = pipeline_2.predict(df2_validation['text'])\n",
    "report = classification_report(df2_validation['label'], y_pred)\n",
    "print(report)"
   ]
  },
  {
   "cell_type": "code",
   "execution_count": 10,
   "id": "0bab342d",
   "metadata": {},
   "outputs": [],
   "source": [
    "import numpy as np\n",
    "\n",
    "# Extract the vocabulary and the classifier from the pipeline\n",
    "vocab = pipeline_1.named_steps['tfidf'].vocabulary_\n",
    "clf = pipeline_1.named_steps['clf']\n",
    "\n",
    "# Get the feature names (words) from the TfidfVectorizer\n",
    "feature_names = np.array(pipeline_1.named_steps['tfidf'].get_feature_names_out())\n",
    "# Calculate predict_proba for each word\n",
    "probabilities = pipeline_1.predict_proba(feature_names)\n",
    "\n",
    "# Create a dataframe with words and their probabilities\n",
    "proba_df_1 = pd.DataFrame(probabilities, index=feature_names, columns=clf.classes_)\n",
    "proba_df_1.rename(columns={2 : 'neutral', 1 : 'positive', 0 : 'negative'}, inplace=True)\n",
    "proba_df_1 = proba_df_1.sort_values(by='positive', ascending=False)"
   ]
  },
  {
   "cell_type": "code",
   "execution_count": 11,
   "id": "e5e3db87",
   "metadata": {},
   "outputs": [],
   "source": [
    "# Extract the vocabulary and the classifier from the pipeline\n",
    "vocab = pipeline_2.named_steps['tfidf'].vocabulary_\n",
    "clf = pipeline_2.named_steps['clf']\n",
    "\n",
    "# Get the feature names (words) from the TfidfVectorizer\n",
    "feature_names = np.array(pipeline_2.named_steps['tfidf'].get_feature_names_out())\n",
    "# Calculate predict_proba for each word\n",
    "probabilities = pipeline_2.predict_proba(feature_names)\n",
    "\n",
    "# Create a dataframe with words and their probabilities\n",
    "proba_df_2 = pd.DataFrame(probabilities, index=feature_names, columns=clf.classes_)\n",
    "proba_df_2.rename(columns={3:'Mixed feelings', 2 : 'no impact', 1 : 'positive', 0 : 'negative'}, inplace=True)\n",
    "proba_df_2 = proba_df_2.sort_values(by='positive', ascending=False)"
   ]
  },
  {
   "cell_type": "code",
   "execution_count": 12,
   "id": "7aed4d17",
   "metadata": {},
   "outputs": [
    {
     "data": {
      "text/plain": [
       "(         negative  positive   neutral\n",
       " up       0.001052  0.987359  0.011589\n",
       " raised   0.003612  0.951590  0.044798\n",
       " bullish  0.017384  0.949131  0.033485\n",
       " higher   0.016610  0.939654  0.043735\n",
       " pre      0.067523  0.906691  0.025786,\n",
       "        negative  positive  no impact  Mixed feelings\n",
       " sweet  0.103471  0.633100   0.210999        0.052430\n",
       " heart  0.194742  0.516697   0.220363        0.068198\n",
       " of     0.206797  0.461277   0.241036        0.090890\n",
       " thy    0.203189  0.426228   0.324121        0.046462\n",
       " her    0.138700  0.419536   0.365043        0.076722)"
      ]
     },
     "execution_count": 12,
     "metadata": {},
     "output_type": "execute_result"
    }
   ],
   "source": [
    "proba_df_1.head(5), proba_df_2.head(5)"
   ]
  },
  {
   "cell_type": "code",
   "execution_count": 13,
   "id": "26246a58",
   "metadata": {},
   "outputs": [
    {
     "data": {
      "text/plain": [
       "(                negative  positive   neutral\n",
       " lower           0.957554  0.006227  0.036219\n",
       " marketscreener  0.004635  0.005764  0.989602\n",
       " declares        0.003527  0.002636  0.993838\n",
       " down            0.980318  0.001567  0.018115\n",
       " misses          0.771710  0.000482  0.227808,\n",
       "       negative  positive  no impact  Mixed feelings\n",
       " then  0.088621  0.055498   0.826779        0.029102\n",
       " it    0.113117  0.048546   0.821852        0.016485\n",
       " have  0.069814  0.047583   0.857429        0.025174\n",
       " not   0.095223  0.040933   0.836159        0.027685\n",
       " you   0.053520  0.036488   0.874202        0.035790)"
      ]
     },
     "execution_count": 13,
     "metadata": {},
     "output_type": "execute_result"
    }
   ],
   "source": [
    "proba_df_1.tail(5), proba_df_2.tail(5)"
   ]
  },
  {
   "cell_type": "code",
   "execution_count": 14,
   "id": "d56ea9ae",
   "metadata": {},
   "outputs": [
    {
     "name": "stderr",
     "output_type": "stream",
     "text": [
      "100%|██████████| 10/10 [00:07<00:00,  1.31it/s]\n"
     ]
    }
   ],
   "source": [
    "#from sklearn.model_selection import learning_curve\n",
    "\n",
    "def learning_curve(pipeline, train_df, test_df, cv, train_sizes):\n",
    "    from tqdm import tqdm\n",
    "    def get_score(pipeline, train_df, test_df):\n",
    "        X = train_df['text']\n",
    "        y = train_df['label']\n",
    "        pipeline.fit(X, y)\n",
    "        train_score = pipeline.score(X, y)\n",
    "        test_score = pipeline.score(test_df['text'], test_df['label'])\n",
    "        return train_score, test_score\n",
    "    \n",
    "    all_train_scores = []\n",
    "    all_test_scores = []\n",
    "    all_train_sizes = []\n",
    "    for train_size in tqdm(train_sizes):\n",
    "        train_scores = []\n",
    "        test_scores = []\n",
    "        train_sizes = []\n",
    "        for i in range(cv):\n",
    "            # Sample the training data\n",
    "            train_df_ = train_df.sample(frac=train_size, random_state=i)\n",
    "            train_score, test_score = get_score(pipeline, train_df_, test_df)\n",
    "            train_scores.append(train_score)\n",
    "            test_scores.append(test_score)\n",
    "            train_sizes.append(len(train_df_))\n",
    "\n",
    "        all_train_scores.append(train_scores)\n",
    "        all_test_scores.append(test_scores)\n",
    "        all_train_sizes.append(train_sizes)\n",
    "    return np.array(all_train_sizes), np.array(all_train_scores), np.array(all_test_scores)\n",
    "\n",
    "\n",
    "# Generate learning curve data\n",
    "train_sizes, train_scores, test_scores = learning_curve(\n",
    "    pipeline_1, df, df2_validation, cv=5, train_sizes=np.logspace(-2, 0, 10, base=10)\n",
    ")\n"
   ]
  },
  {
   "cell_type": "code",
   "execution_count": 15,
   "id": "02d21848",
   "metadata": {},
   "outputs": [
    {
     "data": {
      "text/plain": [
       "array([0.        , 0.        , 0.        , 0.        , 0.00380952,\n",
       "       0.01110658, 0.00712697, 0.00761905, 0.00933139, 0.        ])"
      ]
     },
     "execution_count": 15,
     "metadata": {},
     "output_type": "execute_result"
    }
   ],
   "source": [
    "train_scores_mean = np.mean(train_scores, axis=1)\n",
    "train_scores_std = np.std(train_scores, axis=1)\n",
    "test_scores_mean = np.mean(test_scores, axis=1)\n",
    "test_scores_std = np.std(test_scores, axis=1)\n",
    "train_sizes = np.mean(train_sizes, axis=1)\n",
    "\n",
    "test_scores_std"
   ]
  },
  {
   "cell_type": "code",
   "execution_count": 16,
   "id": "9b471240",
   "metadata": {},
   "outputs": [
    {
     "data": {
      "image/png": "[encoded data removed]",
      "text/plain": [
       "<Figure size 500x300 with 1 Axes>"
      ]
     },
     "metadata": {},
     "output_type": "display_data"
    }
   ],
   "source": [
    "# Plot the learning curve\n",
    "import matplotlib.pyplot as plt\n",
    "plt.figure(figsize=(5, 3))\n",
    "plt.plot(train_sizes, train_scores_mean, label='Training score', color='blue')\n",
    "plt.fill_between(train_sizes, train_scores_mean - 2*train_scores_std, train_scores_mean + 2*train_scores_std, color='blue', alpha=0.2)\n",
    "plt.plot(train_sizes, test_scores_mean, label='Cross-validation score', color='orange')\n",
    "plt.fill_between(train_sizes, test_scores_mean - 2*test_scores_std, test_scores_mean + 2*test_scores_std, color='orange', alpha=0.2)\n",
    "\n",
    "plt.title('Learning Curve')\n",
    "plt.xlabel('Training Set Size')\n",
    "plt.ylabel('Accuracy')\n",
    "plt.legend(loc='best')\n",
    "plt.semilogx()\n",
    "\n",
    "\n",
    "plt.grid()\n",
    "plt.show()"
   ]
  },
  {
   "cell_type": "code",
   "execution_count": null,
   "id": "bc11437d",
   "metadata": {},
   "outputs": [],
   "source": []
  }
 ],
 "metadata": {
  "kernelspec": {
   "display_name": "Python 3",
   "language": "python",
   "name": "python3"
  },
  "language_info": {
   "codemirror_mode": {
    "name": "ipython",
    "version": 3
   },
   "file_extension": ".py",
   "mimetype": "text/x-python",
   "name": "python",
   "nbconvert_exporter": "python",
   "pygments_lexer": "ipython3",
   "version": "3.11.9"
  }
 },
 "nbformat": 4,
 "nbformat_minor": 5
}
